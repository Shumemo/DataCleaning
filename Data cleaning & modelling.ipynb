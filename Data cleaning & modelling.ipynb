{
 "cells": [
  {
   "cell_type": "markdown",
   "metadata": {},
   "source": [
    "## Data cleaning & modelling exercise\n",
    "\n",
    "This is an example walking through the exploratory and cleanup steps that are recommended/typical of a real-world data science problem. (It's an example of the type of take-home challenge you might be given as part of a data science job interview process.)\n",
    "\n",
    "The context: This company runs an app that helps people find doctors near them. After an introductory interview, they provide you with a dataset and ask you for some insights on what factors contribute to a user's likelihood to request an appointment."
   ]
  },
  {
   "cell_type": "code",
   "execution_count": 1,
   "metadata": {},
   "outputs": [],
   "source": [
    "import numpy as np\n",
    "import pandas as pd\n",
    "import matplotlib.pyplot as plt\n",
    "%matplotlib inline"
   ]
  },
  {
   "cell_type": "code",
   "execution_count": 2,
   "metadata": {},
   "outputs": [
    {
     "data": {
      "text/html": [
       "<div>\n",
       "<style scoped>\n",
       "    .dataframe tbody tr th:only-of-type {\n",
       "        vertical-align: middle;\n",
       "    }\n",
       "\n",
       "    .dataframe tbody tr th {\n",
       "        vertical-align: top;\n",
       "    }\n",
       "\n",
       "    .dataframe thead th {\n",
       "        text-align: right;\n",
       "    }\n",
       "</style>\n",
       "<table border=\"1\" class=\"dataframe\">\n",
       "  <thead>\n",
       "    <tr style=\"text-align: right;\">\n",
       "      <th></th>\n",
       "      <th>source</th>\n",
       "      <th>campaign</th>\n",
       "      <th>region</th>\n",
       "      <th>locality</th>\n",
       "      <th>preferred_doctor_gender</th>\n",
       "      <th>reason_for_visit</th>\n",
       "      <th>patient_insured</th>\n",
       "      <th>number_of_match_results</th>\n",
       "      <th>out_network_results_shown</th>\n",
       "      <th>in_network_results_shown</th>\n",
       "      <th>avg_distance_overall</th>\n",
       "      <th>appointment_requested</th>\n",
       "    </tr>\n",
       "  </thead>\n",
       "  <tbody>\n",
       "    <tr>\n",
       "      <td>0</td>\n",
       "      <td>facebook</td>\n",
       "      <td>san_diego_doctor_patient_acquisition</td>\n",
       "      <td>San Jose</td>\n",
       "      <td>San Jose</td>\n",
       "      <td>No Pref</td>\n",
       "      <td>Specific Treatment</td>\n",
       "      <td>f</td>\n",
       "      <td>9</td>\n",
       "      <td>0</td>\n",
       "      <td>0</td>\n",
       "      <td>10547.219510</td>\n",
       "      <td>f</td>\n",
       "    </tr>\n",
       "    <tr>\n",
       "      <td>1</td>\n",
       "      <td>facebook</td>\n",
       "      <td>san_diego_doctor_patient_acquisition</td>\n",
       "      <td>San Diego</td>\n",
       "      <td>Chula Vista</td>\n",
       "      <td>F</td>\n",
       "      <td>Checkup</td>\n",
       "      <td>f</td>\n",
       "      <td>2</td>\n",
       "      <td>0</td>\n",
       "      <td>0</td>\n",
       "      <td>20784.617720</td>\n",
       "      <td>f</td>\n",
       "    </tr>\n",
       "    <tr>\n",
       "      <td>2</td>\n",
       "      <td>try.healthcare.com</td>\n",
       "      <td>Unknown</td>\n",
       "      <td>Austin</td>\n",
       "      <td>Austin</td>\n",
       "      <td>No Pref</td>\n",
       "      <td>Checkup</td>\n",
       "      <td>t</td>\n",
       "      <td>9</td>\n",
       "      <td>8</td>\n",
       "      <td>1</td>\n",
       "      <td>8014.945931</td>\n",
       "      <td>t</td>\n",
       "    </tr>\n",
       "    <tr>\n",
       "      <td>3</td>\n",
       "      <td>facebook</td>\n",
       "      <td>denver_doctor_patient_acquisition</td>\n",
       "      <td>Denver</td>\n",
       "      <td>Golden</td>\n",
       "      <td>No Pref</td>\n",
       "      <td>Specific Treatment</td>\n",
       "      <td>t</td>\n",
       "      <td>8</td>\n",
       "      <td>2</td>\n",
       "      <td>6</td>\n",
       "      <td>16651.158750</td>\n",
       "      <td>f</td>\n",
       "    </tr>\n",
       "    <tr>\n",
       "      <td>4</td>\n",
       "      <td>facebook</td>\n",
       "      <td>chicago_doctor_patient_acquisition</td>\n",
       "      <td>Chicago</td>\n",
       "      <td>Chicago</td>\n",
       "      <td>F</td>\n",
       "      <td>Checkup</td>\n",
       "      <td>f</td>\n",
       "      <td>9</td>\n",
       "      <td>0</td>\n",
       "      <td>0</td>\n",
       "      <td>5216.934559</td>\n",
       "      <td>f</td>\n",
       "    </tr>\n",
       "  </tbody>\n",
       "</table>\n",
       "</div>"
      ],
      "text/plain": [
       "               source                              campaign     region  \\\n",
       "0            facebook  san_diego_doctor_patient_acquisition   San Jose   \n",
       "1            facebook  san_diego_doctor_patient_acquisition  San Diego   \n",
       "2  try.healthcare.com                               Unknown     Austin   \n",
       "3            facebook     denver_doctor_patient_acquisition     Denver   \n",
       "4            facebook    chicago_doctor_patient_acquisition    Chicago   \n",
       "\n",
       "      locality preferred_doctor_gender    reason_for_visit patient_insured  \\\n",
       "0     San Jose                 No Pref  Specific Treatment               f   \n",
       "1  Chula Vista                       F             Checkup               f   \n",
       "2       Austin                 No Pref             Checkup               t   \n",
       "3       Golden                 No Pref  Specific Treatment               t   \n",
       "4      Chicago                       F             Checkup               f   \n",
       "\n",
       "   number_of_match_results  out_network_results_shown  \\\n",
       "0                        9                          0   \n",
       "1                        2                          0   \n",
       "2                        9                          8   \n",
       "3                        8                          2   \n",
       "4                        9                          0   \n",
       "\n",
       "   in_network_results_shown  avg_distance_overall appointment_requested  \n",
       "0                         0          10547.219510                     f  \n",
       "1                         0          20784.617720                     f  \n",
       "2                         1           8014.945931                     t  \n",
       "3                         6          16651.158750                     f  \n",
       "4                         0           5216.934559                     f  "
      ]
     },
     "execution_count": 2,
     "metadata": {},
     "output_type": "execute_result"
    }
   ],
   "source": [
    "df = pd.read_csv('data/Patient-Acquisition-Data4.csv')\n",
    "df.head()"
   ]
  },
  {
   "cell_type": "markdown",
   "metadata": {},
   "source": [
    "#### Check for duplicates"
   ]
  },
  {
   "cell_type": "code",
   "execution_count": 3,
   "metadata": {},
   "outputs": [
    {
     "data": {
      "text/plain": [
       "(17503, 12)"
      ]
     },
     "execution_count": 3,
     "metadata": {},
     "output_type": "execute_result"
    }
   ],
   "source": [
    "df.shape"
   ]
  },
  {
   "cell_type": "code",
   "execution_count": 4,
   "metadata": {},
   "outputs": [
    {
     "data": {
      "text/plain": [
       "696"
      ]
     },
     "execution_count": 4,
     "metadata": {},
     "output_type": "execute_result"
    }
   ],
   "source": [
    "df.duplicated().sum()"
   ]
  },
  {
   "cell_type": "code",
   "execution_count": 5,
   "metadata": {},
   "outputs": [
    {
     "data": {
      "text/html": [
       "<div>\n",
       "<style scoped>\n",
       "    .dataframe tbody tr th:only-of-type {\n",
       "        vertical-align: middle;\n",
       "    }\n",
       "\n",
       "    .dataframe tbody tr th {\n",
       "        vertical-align: top;\n",
       "    }\n",
       "\n",
       "    .dataframe thead th {\n",
       "        text-align: right;\n",
       "    }\n",
       "</style>\n",
       "<table border=\"1\" class=\"dataframe\">\n",
       "  <thead>\n",
       "    <tr style=\"text-align: right;\">\n",
       "      <th></th>\n",
       "      <th>source</th>\n",
       "      <th>campaign</th>\n",
       "      <th>region</th>\n",
       "      <th>locality</th>\n",
       "      <th>preferred_doctor_gender</th>\n",
       "      <th>reason_for_visit</th>\n",
       "      <th>patient_insured</th>\n",
       "      <th>number_of_match_results</th>\n",
       "      <th>out_network_results_shown</th>\n",
       "      <th>in_network_results_shown</th>\n",
       "      <th>avg_distance_overall</th>\n",
       "      <th>appointment_requested</th>\n",
       "    </tr>\n",
       "  </thead>\n",
       "  <tbody>\n",
       "    <tr>\n",
       "      <td>198</td>\n",
       "      <td>facebook</td>\n",
       "      <td>seattle_doctor_patient_acquisition</td>\n",
       "      <td>Seattle</td>\n",
       "      <td>Seattle</td>\n",
       "      <td>No Pref</td>\n",
       "      <td>Checkup</td>\n",
       "      <td>t</td>\n",
       "      <td>9</td>\n",
       "      <td>0</td>\n",
       "      <td>9</td>\n",
       "      <td>13044.163950</td>\n",
       "      <td>f</td>\n",
       "    </tr>\n",
       "    <tr>\n",
       "      <td>521</td>\n",
       "      <td>facebook</td>\n",
       "      <td>denver_doctor_patient_acquisition</td>\n",
       "      <td>Denver</td>\n",
       "      <td>Arvada</td>\n",
       "      <td>No Pref</td>\n",
       "      <td>Checkup</td>\n",
       "      <td>t</td>\n",
       "      <td>9</td>\n",
       "      <td>8</td>\n",
       "      <td>1</td>\n",
       "      <td>12212.261400</td>\n",
       "      <td>f</td>\n",
       "    </tr>\n",
       "    <tr>\n",
       "      <td>548</td>\n",
       "      <td>facebook</td>\n",
       "      <td>chicago_doctor_patient_acquisition</td>\n",
       "      <td>Chicago</td>\n",
       "      <td>Lombard</td>\n",
       "      <td>No Pref</td>\n",
       "      <td>Checkup</td>\n",
       "      <td>t</td>\n",
       "      <td>9</td>\n",
       "      <td>2</td>\n",
       "      <td>7</td>\n",
       "      <td>13556.880770</td>\n",
       "      <td>f</td>\n",
       "    </tr>\n",
       "    <tr>\n",
       "      <td>620</td>\n",
       "      <td>facebook</td>\n",
       "      <td>seattle_doctor_patient_acquisition</td>\n",
       "      <td>Seattle</td>\n",
       "      <td>Renton</td>\n",
       "      <td>F</td>\n",
       "      <td>Checkup</td>\n",
       "      <td>t</td>\n",
       "      <td>9</td>\n",
       "      <td>9</td>\n",
       "      <td>0</td>\n",
       "      <td>12340.556790</td>\n",
       "      <td>f</td>\n",
       "    </tr>\n",
       "    <tr>\n",
       "      <td>705</td>\n",
       "      <td>facebook</td>\n",
       "      <td>denver_doctor_patient_acquisition</td>\n",
       "      <td>Denver</td>\n",
       "      <td>Denver</td>\n",
       "      <td>No Pref</td>\n",
       "      <td>Checkup</td>\n",
       "      <td>t</td>\n",
       "      <td>9</td>\n",
       "      <td>3</td>\n",
       "      <td>6</td>\n",
       "      <td>20083.469970</td>\n",
       "      <td>f</td>\n",
       "    </tr>\n",
       "    <tr>\n",
       "      <td>...</td>\n",
       "      <td>...</td>\n",
       "      <td>...</td>\n",
       "      <td>...</td>\n",
       "      <td>...</td>\n",
       "      <td>...</td>\n",
       "      <td>...</td>\n",
       "      <td>...</td>\n",
       "      <td>...</td>\n",
       "      <td>...</td>\n",
       "      <td>...</td>\n",
       "      <td>...</td>\n",
       "      <td>...</td>\n",
       "    </tr>\n",
       "    <tr>\n",
       "      <td>11888</td>\n",
       "      <td>facebook</td>\n",
       "      <td>austin_doctor_patient_acquisition</td>\n",
       "      <td>Austin</td>\n",
       "      <td>Denton</td>\n",
       "      <td>No Pref</td>\n",
       "      <td>Checkup</td>\n",
       "      <td>t</td>\n",
       "      <td>0</td>\n",
       "      <td>0</td>\n",
       "      <td>0</td>\n",
       "      <td>NaN</td>\n",
       "      <td>f</td>\n",
       "    </tr>\n",
       "    <tr>\n",
       "      <td>11923</td>\n",
       "      <td>facebook</td>\n",
       "      <td>san_jose_doctor_patient_acquisition</td>\n",
       "      <td>San Jose</td>\n",
       "      <td>San Jose</td>\n",
       "      <td>F</td>\n",
       "      <td>Checkup</td>\n",
       "      <td>f</td>\n",
       "      <td>7</td>\n",
       "      <td>0</td>\n",
       "      <td>0</td>\n",
       "      <td>9305.008092</td>\n",
       "      <td>f</td>\n",
       "    </tr>\n",
       "    <tr>\n",
       "      <td>11927</td>\n",
       "      <td>facebook</td>\n",
       "      <td>san_diego_doctor_patient_acquisition</td>\n",
       "      <td>San Diego</td>\n",
       "      <td>San Diego</td>\n",
       "      <td>No Pref</td>\n",
       "      <td>Checkup</td>\n",
       "      <td>f</td>\n",
       "      <td>9</td>\n",
       "      <td>0</td>\n",
       "      <td>0</td>\n",
       "      <td>9545.908608</td>\n",
       "      <td>f</td>\n",
       "    </tr>\n",
       "    <tr>\n",
       "      <td>11930</td>\n",
       "      <td>facebook</td>\n",
       "      <td>san_jose_doctor_patient_acquisition</td>\n",
       "      <td>San Jose</td>\n",
       "      <td>San Jose</td>\n",
       "      <td>No Pref</td>\n",
       "      <td>Checkup</td>\n",
       "      <td>t</td>\n",
       "      <td>3</td>\n",
       "      <td>2</td>\n",
       "      <td>1</td>\n",
       "      <td>14258.213170</td>\n",
       "      <td>f</td>\n",
       "    </tr>\n",
       "    <tr>\n",
       "      <td>11931</td>\n",
       "      <td>facebook</td>\n",
       "      <td>denver_doctor_patient_acquisition</td>\n",
       "      <td>Denver</td>\n",
       "      <td>Denver</td>\n",
       "      <td>No Pref</td>\n",
       "      <td>Urgent Issue</td>\n",
       "      <td>f</td>\n",
       "      <td>9</td>\n",
       "      <td>0</td>\n",
       "      <td>0</td>\n",
       "      <td>8176.979229</td>\n",
       "      <td>f</td>\n",
       "    </tr>\n",
       "  </tbody>\n",
       "</table>\n",
       "<p>696 rows × 12 columns</p>\n",
       "</div>"
      ],
      "text/plain": [
       "         source                              campaign     region   locality  \\\n",
       "198    facebook    seattle_doctor_patient_acquisition    Seattle    Seattle   \n",
       "521    facebook     denver_doctor_patient_acquisition     Denver     Arvada   \n",
       "548    facebook    chicago_doctor_patient_acquisition    Chicago    Lombard   \n",
       "620    facebook    seattle_doctor_patient_acquisition    Seattle     Renton   \n",
       "705    facebook     denver_doctor_patient_acquisition     Denver     Denver   \n",
       "...         ...                                   ...        ...        ...   \n",
       "11888  facebook     austin_doctor_patient_acquisition     Austin     Denton   \n",
       "11923  facebook   san_jose_doctor_patient_acquisition   San Jose   San Jose   \n",
       "11927  facebook  san_diego_doctor_patient_acquisition  San Diego  San Diego   \n",
       "11930  facebook   san_jose_doctor_patient_acquisition   San Jose   San Jose   \n",
       "11931  facebook     denver_doctor_patient_acquisition     Denver     Denver   \n",
       "\n",
       "      preferred_doctor_gender reason_for_visit patient_insured  \\\n",
       "198                   No Pref          Checkup               t   \n",
       "521                   No Pref          Checkup               t   \n",
       "548                   No Pref          Checkup               t   \n",
       "620                         F          Checkup               t   \n",
       "705                   No Pref          Checkup               t   \n",
       "...                       ...              ...             ...   \n",
       "11888                 No Pref          Checkup               t   \n",
       "11923                       F          Checkup               f   \n",
       "11927                 No Pref          Checkup               f   \n",
       "11930                 No Pref          Checkup               t   \n",
       "11931                 No Pref     Urgent Issue               f   \n",
       "\n",
       "       number_of_match_results  out_network_results_shown  \\\n",
       "198                          9                          0   \n",
       "521                          9                          8   \n",
       "548                          9                          2   \n",
       "620                          9                          9   \n",
       "705                          9                          3   \n",
       "...                        ...                        ...   \n",
       "11888                        0                          0   \n",
       "11923                        7                          0   \n",
       "11927                        9                          0   \n",
       "11930                        3                          2   \n",
       "11931                        9                          0   \n",
       "\n",
       "       in_network_results_shown  avg_distance_overall appointment_requested  \n",
       "198                           9          13044.163950                     f  \n",
       "521                           1          12212.261400                     f  \n",
       "548                           7          13556.880770                     f  \n",
       "620                           0          12340.556790                     f  \n",
       "705                           6          20083.469970                     f  \n",
       "...                         ...                   ...                   ...  \n",
       "11888                         0                   NaN                     f  \n",
       "11923                         0           9305.008092                     f  \n",
       "11927                         0           9545.908608                     f  \n",
       "11930                         1          14258.213170                     f  \n",
       "11931                         0           8176.979229                     f  \n",
       "\n",
       "[696 rows x 12 columns]"
      ]
     },
     "execution_count": 5,
     "metadata": {},
     "output_type": "execute_result"
    }
   ],
   "source": [
    "# Examine the duplicate rows\n",
    "df.loc[df.duplicated(), :]"
   ]
  },
  {
   "cell_type": "markdown",
   "metadata": {},
   "source": [
    "Roughly 4% of the data is duplicate. But since there's no unique identifiers, its certainly possible that 2 distinct users share similar information in the dataset. Because the amount of duplicate information is low, we'll keep the duplicates."
   ]
  },
  {
   "cell_type": "code",
   "execution_count": 6,
   "metadata": {},
   "outputs": [
    {
     "data": {
      "text/plain": [
       "source                       False\n",
       "campaign                     False\n",
       "region                       False\n",
       "locality                     False\n",
       "preferred_doctor_gender      False\n",
       "reason_for_visit             False\n",
       "patient_insured              False\n",
       "number_of_match_results      False\n",
       "out_network_results_shown    False\n",
       "in_network_results_shown     False\n",
       "avg_distance_overall         False\n",
       "appointment_requested        False\n",
       "dtype: bool"
      ]
     },
     "execution_count": 6,
     "metadata": {},
     "output_type": "execute_result"
    }
   ],
   "source": [
    "# Check for duplicate columns\n",
    "df.T.duplicated()"
   ]
  },
  {
   "cell_type": "markdown",
   "metadata": {},
   "source": [
    "#### Check for Null values"
   ]
  },
  {
   "cell_type": "code",
   "execution_count": 7,
   "metadata": {},
   "outputs": [
    {
     "data": {
      "text/plain": [
       "source                        26\n",
       "campaign                      12\n",
       "region                         0\n",
       "locality                       0\n",
       "preferred_doctor_gender        0\n",
       "reason_for_visit              10\n",
       "patient_insured                0\n",
       "number_of_match_results        0\n",
       "out_network_results_shown      0\n",
       "in_network_results_shown       0\n",
       "avg_distance_overall         570\n",
       "appointment_requested          0\n",
       "dtype: int64"
      ]
     },
     "execution_count": 7,
     "metadata": {},
     "output_type": "execute_result"
    }
   ],
   "source": [
    "df.isna().sum()"
   ]
  },
  {
   "cell_type": "markdown",
   "metadata": {},
   "source": [
    "We'll tidy up Null values as we explore each column."
   ]
  },
  {
   "cell_type": "markdown",
   "metadata": {},
   "source": [
    "#### Data exploration"
   ]
  },
  {
   "cell_type": "code",
   "execution_count": 8,
   "metadata": {
    "scrolled": true
   },
   "outputs": [
    {
     "name": "stdout",
     "output_type": "stream",
     "text": [
      "facebook                         10754\n",
      "adwords                           1702\n",
      "Patients                           969\n",
      "www.healthcare.com                 871\n",
      "try.healthcare.com                 607\n",
      "                                 ...  \n",
      "r.search.aol.com:443                 1\n",
      "results.searchlock.com               1\n",
      "www.health247.com                    1\n",
      "doctorfrisco-tx.com                  1\n",
      "egglestonoms.clickforward.com        1\n",
      "Name: source, Length: 73, dtype: int64\n"
     ]
    },
    {
     "data": {
      "image/png": "[encoded data removed]",
      "text/plain": [
       "<Figure size 432x288 with 1 Axes>"
      ]
     },
     "metadata": {
      "needs_background": "light"
     },
     "output_type": "display_data"
    }
   ],
   "source": [
    "# Plot the frequency of each Source\n",
    "df['source'].value_counts().plot(kind='bar')\n",
    "\n",
    "# Print out the frequency counts\n",
    "print(df['source'].value_counts())"
   ]
  },
  {
   "cell_type": "markdown",
   "metadata": {},
   "source": [
    "For this initial analysis, I'll keep the most dominant sources, (Facebook & adwords), and bucket the rest to be 'Other' (including the Null values). Although in a future analysis, we could dive deeper into different source trends."
   ]
  },
  {
   "cell_type": "code",
   "execution_count": 9,
   "metadata": {},
   "outputs": [],
   "source": [
    "df.loc[~df['source'].isin(['facebook','adwords']), 'source'] = 'Other'"
   ]
  },
  {
   "cell_type": "code",
   "execution_count": 10,
   "metadata": {},
   "outputs": [
    {
     "data": {
      "text/plain": [
       "facebook    10754\n",
       "Other        5047\n",
       "adwords      1702\n",
       "Name: source, dtype: int64"
      ]
     },
     "execution_count": 10,
     "metadata": {},
     "output_type": "execute_result"
    }
   ],
   "source": [
    "df['source'].value_counts()"
   ]
  },
  {
   "cell_type": "code",
   "execution_count": 11,
   "metadata": {},
   "outputs": [
    {
     "name": "stdout",
     "output_type": "stream",
     "text": [
      "Unknown                                          3682\n",
      "austin_doctor_patient_acquisition                1982\n",
      "seattle_doctor_patient_acquisition               1980\n",
      "chicago_doctor_patient_acquisition               1965\n",
      "san_francisco_doctor_patient_acquisition         1523\n",
      "denver_doctor_patient_acquisition                1182\n",
      "san_jose_doctor_patient_acquisition               857\n",
      "san_diego_doctor_patient_acquisition              714\n",
      "search_chicago_local                              456\n",
      "doctor_patient_acquisition                        413\n",
      "patient_leads_jun_2018                            398\n",
      "search_seattle_metro                              299\n",
      "search_austin_local                               245\n",
      "search_sanfrancisco_metro                         206\n",
      "branded_keywords                                  203\n",
      "search_seattle_local                              184\n",
      "search_sanfrancisco_local                         182\n",
      "jan_2018_high_offer                               181\n",
      "search_chicago_metro                              158\n",
      "patient_leads_may_2018                            126\n",
      "us_doctor_patient_remarketing                     104\n",
      "healthcare_facebook_page                           68\n",
      "new                                                62\n",
      "sanfrancisco_doctor_patient_acquisition            57\n",
      "us_doctor_patient_ad_testing                       56\n",
      "search_austin_metro                                51\n",
      "patient_leads_mar_2018                             48\n",
      "toronto_doctor_patient_acquisition                 31\n",
      "patient_leads_feb_2018                             25\n",
      "us_patients                                        15\n",
      "april_2018_email_blast                              6\n",
      "us_doctor_patient_acquisition                       5\n",
      "site_link                                           5\n",
      "patients                                            3\n",
      "same                                                3\n",
      "main_chicago                                        2\n",
      "seattle_doctor_patient_acquisition_targeted         2\n",
      "chicato_doctor_patient_acquisition                  1\n",
      "main_seattle                                        1\n",
      "chicago_doctor_patient_acquisition_healthcare       1\n",
      "denver_patients                                     1\n",
      "Free Credits                                        1\n",
      "feb_2018_email_blast                                1\n",
      "chicago_doctor_patient_remarketing                  1\n",
      "seattle_doctor_patient_remarketing                  1\n",
      "april_2018_referral_drip_leads                      1\n",
      "uber                                                1\n",
      "patient_leads                                       1\n",
      "seattle_doctor_patient_acquisition_healthcare       1\n",
      "Name: campaign, dtype: int64\n"
     ]
    },
    {
     "data": {
      "image/png": "[encoded data removed]",
      "text/plain": [
       "<Figure size 432x288 with 1 Axes>"
      ]
     },
     "metadata": {
      "needs_background": "light"
     },
     "output_type": "display_data"
    }
   ],
   "source": [
    "# Move onto campaign column\n",
    "df['campaign'].value_counts().plot(kind='bar')\n",
    "\n",
    "print(df['campaign'].value_counts())"
   ]
  },
  {
   "cell_type": "markdown",
   "metadata": {},
   "source": [
    "We'll a similar bucketing here. First we'll set the Null values to be 'Unknown'. Then we'll group all the 'doctor_patient_acquisitions' together, as well as all the 'search' campaigns and 'patient_leads'. The rest will be grouped into an 'Other' category."
   ]
  },
  {
   "cell_type": "code",
   "execution_count": 12,
   "metadata": {},
   "outputs": [],
   "source": [
    "# fill nulls\n",
    "df['campaign'].fillna('Unknown', inplace=True)"
   ]
  },
  {
   "cell_type": "code",
   "execution_count": 13,
   "metadata": {},
   "outputs": [],
   "source": [
    "df.loc[df['campaign'].str.contains('doctor_patient_acquisition'), \n",
    "       'campaign'] = 'doctor_patient_acquisition'\n",
    "\n",
    "b\n",
    "\n",
    "df.loc[df['campaign'].str.contains('patient_leads'),\n",
    "      'campaign'] = 'patient_leads'\n",
    "\n",
    "# Bucket all the Other campaigns\n",
    "df.loc[~df['campaign'].isin(['Unknown', 'doctor_patient_acquisition', 'search', 'patient_leads']), 'campaign'] = 'Other'"
   ]
  },
  {
   "cell_type": "code",
   "execution_count": 14,
   "metadata": {},
   "outputs": [
    {
     "data": {
      "text/plain": [
       "doctor_patient_acquisition    10714\n",
       "Unknown                        3694\n",
       "search                         1781\n",
       "Other                           716\n",
       "patient_leads                   598\n",
       "Name: campaign, dtype: int64"
      ]
     },
     "execution_count": 14,
     "metadata": {},
     "output_type": "execute_result"
    }
   ],
   "source": [
    "df['campaign'].value_counts()"
   ]
  },
  {
   "cell_type": "code",
   "execution_count": 15,
   "metadata": {},
   "outputs": [
    {
     "name": "stdout",
     "output_type": "stream",
     "text": [
      "<class 'pandas.core.frame.DataFrame'>\n",
      "RangeIndex: 17503 entries, 0 to 17502\n",
      "Data columns (total 12 columns):\n",
      "source                       17503 non-null object\n",
      "campaign                     17503 non-null object\n",
      "region                       17503 non-null object\n",
      "locality                     17503 non-null object\n",
      "preferred_doctor_gender      17503 non-null object\n",
      "reason_for_visit             17493 non-null object\n",
      "patient_insured              17503 non-null object\n",
      "number_of_match_results      17503 non-null int64\n",
      "out_network_results_shown    17503 non-null int64\n",
      "in_network_results_shown     17503 non-null int64\n",
      "avg_distance_overall         16933 non-null float64\n",
      "appointment_requested        17503 non-null object\n",
      "dtypes: float64(1), int64(3), object(8)\n",
      "memory usage: 1.6+ MB\n"
     ]
    }
   ],
   "source": [
    "df.info()"
   ]
  },
  {
   "cell_type": "code",
   "execution_count": 16,
   "metadata": {},
   "outputs": [
    {
     "data": {
      "image/png": "[encoded data removed]",
      "text/plain": [
       "<Figure size 432x288 with 1 Axes>"
      ]
     },
     "metadata": {
      "needs_background": "light"
     },
     "output_type": "display_data"
    },
    {
     "name": "stdout",
     "output_type": "stream",
     "text": [
      "Chicago          3758\n",
      "Seattle          3552\n",
      "Austin           3249\n",
      "San Francisco    2974\n",
      "Denver           1844\n",
      "San Jose         1203\n",
      "San Diego         909\n",
      "Washington DC      14\n",
      "Name: region, dtype: int64\n"
     ]
    },
    {
     "data": {
      "image/png": "[encoded data removed]",
      "text/plain": [
       "<Figure size 432x288 with 1 Axes>"
      ]
     },
     "metadata": {
      "needs_background": "light"
     },
     "output_type": "display_data"
    },
    {
     "name": "stdout",
     "output_type": "stream",
     "text": [
      "Chicago          2621\n",
      "Austin           2419\n",
      "San Francisco    2050\n",
      "Seattle          1718\n",
      "Denver           1186\n",
      "                 ... \n",
      "Pasadena            1\n",
      "Maxwell             1\n",
      "Bee Cave            1\n",
      "Hurst               1\n",
      "Kentfield           1\n",
      "Name: locality, Length: 512, dtype: int64\n"
     ]
    },
    {
     "data": {
      "image/png": "[encoded data removed]",
      "text/plain": [
       "<Figure size 432x288 with 1 Axes>"
      ]
     },
     "metadata": {
      "needs_background": "light"
     },
     "output_type": "display_data"
    },
    {
     "name": "stdout",
     "output_type": "stream",
     "text": [
      "No Pref    13517\n",
      "F           2664\n",
      "M           1322\n",
      "Name: preferred_doctor_gender, dtype: int64\n"
     ]
    },
    {
     "data": {
      "image/png": "[encoded data removed]",
      "text/plain": [
       "<Figure size 432x288 with 1 Axes>"
      ]
     },
     "metadata": {
      "needs_background": "light"
     },
     "output_type": "display_data"
    },
    {
     "name": "stdout",
     "output_type": "stream",
     "text": [
      "Checkup               13795\n",
      "Specific Treatment     1980\n",
      "Urgent Issue           1718\n",
      "Name: reason_for_visit, dtype: int64\n"
     ]
    },
    {
     "data": {
      "image/png": "[encoded data removed]",
      "text/plain": [
       "<Figure size 432x288 with 1 Axes>"
      ]
     },
     "metadata": {
      "needs_background": "light"
     },
     "output_type": "display_data"
    },
    {
     "name": "stdout",
     "output_type": "stream",
     "text": [
      "t    13411\n",
      "f     4092\n",
      "Name: patient_insured, dtype: int64\n"
     ]
    }
   ],
   "source": [
    "# Loop over remaining categorical columns to examine them\n",
    "\n",
    "cat_columns = ['region', 'locality', 'preferred_doctor_gender',\n",
    "              'reason_for_visit', 'patient_insured']\n",
    "\n",
    "for column in cat_columns:\n",
    "    \n",
    "    # Plot the frequencies\n",
    "    df[column].value_counts().plot(kind='bar')\n",
    "    plt.title(column)\n",
    "    plt.show()\n",
    "    \n",
    "    # Print the frequencies\n",
    "    print(df[column].value_counts())"
   ]
  },
  {
   "cell_type": "markdown",
   "metadata": {},
   "source": [
    "From looking at the remaining categorical columns, there are 2 actions to be taken. Because of the sheer volume of categories in the Locality column, we will drop the column here, as we're already doing some regional analysis through the Region column. We also need to fill the Null values from the reason_for_visit column, and since Checkup is by far the most common reason for visit, it makes sense to fill the 10 missing values with the mode here."
   ]
  },
  {
   "cell_type": "code",
   "execution_count": 17,
   "metadata": {},
   "outputs": [],
   "source": [
    "# Drop the locality column\n",
    "df.drop(['locality'], axis=1, inplace=True)"
   ]
  },
  {
   "cell_type": "code",
   "execution_count": 18,
   "metadata": {},
   "outputs": [],
   "source": [
    "# Fill reason_for_visit NaNs with the mode\n",
    "mode = df['reason_for_visit'].mode()[0]\n",
    "\n",
    "df['reason_for_visit'].fillna(mode, inplace=True)"
   ]
  },
  {
   "cell_type": "code",
   "execution_count": 19,
   "metadata": {},
   "outputs": [
    {
     "data": {
      "text/plain": [
       "source                         0\n",
       "campaign                       0\n",
       "region                         0\n",
       "preferred_doctor_gender        0\n",
       "reason_for_visit               0\n",
       "patient_insured                0\n",
       "number_of_match_results        0\n",
       "out_network_results_shown      0\n",
       "in_network_results_shown       0\n",
       "avg_distance_overall         570\n",
       "appointment_requested          0\n",
       "dtype: int64"
      ]
     },
     "execution_count": 19,
     "metadata": {},
     "output_type": "execute_result"
    }
   ],
   "source": [
    "df.isna().sum()"
   ]
  },
  {
   "cell_type": "code",
   "execution_count": 20,
   "metadata": {},
   "outputs": [
    {
     "data": {
      "image/png": "[encoded data removed]",
      "text/plain": [
       "<Figure size 432x288 with 1 Axes>"
      ]
     },
     "metadata": {
      "needs_background": "light"
     },
     "output_type": "display_data"
    },
    {
     "data": {
      "image/png": "[encoded data removed]",
      "text/plain": [
       "<Figure size 432x288 with 1 Axes>"
      ]
     },
     "metadata": {
      "needs_background": "light"
     },
     "output_type": "display_data"
    },
    {
     "data": {
      "image/png": "[encoded data removed]",
      "text/plain": [
       "<Figure size 432x288 with 1 Axes>"
      ]
     },
     "metadata": {
      "needs_background": "light"
     },
     "output_type": "display_data"
    },
    {
     "name": "stderr",
     "output_type": "stream",
     "text": [
      "C:\\Users\\saleh\\Anaconda3\\lib\\site-packages\\numpy\\lib\\histograms.py:824: RuntimeWarning: invalid value encountered in greater_equal\n",
      "  keep = (tmp_a >= first_edge)\n",
      "C:\\Users\\saleh\\Anaconda3\\lib\\site-packages\\numpy\\lib\\histograms.py:825: RuntimeWarning: invalid value encountered in less_equal\n",
      "  keep &= (tmp_a <= last_edge)\n"
     ]
    },
    {
     "data": {
      "image/png": "[encoded data removed]",
      "text/plain": [
       "<Figure size 432x288 with 1 Axes>"
      ]
     },
     "metadata": {
      "needs_background": "light"
     },
     "output_type": "display_data"
    }
   ],
   "source": [
    "# Examine the distribution of the numerical columns\n",
    "\n",
    "num_columns = ['number_of_match_results', 'out_network_results_shown',\n",
    "              'in_network_results_shown', 'avg_distance_overall']\n",
    "\n",
    "for column in num_columns:\n",
    "    \n",
    "    # Plot a histogram\n",
    "    plt.figure()\n",
    "    plt.hist(df[column])\n",
    "    plt.title(f'Distribution of {column}')\n",
    "    plt.show()"
   ]
  },
  {
   "cell_type": "code",
   "execution_count": 21,
   "metadata": {},
   "outputs": [
    {
     "name": "stdout",
     "output_type": "stream",
     "text": [
      "10575.22173\n",
      "10777.897338739042\n"
     ]
    }
   ],
   "source": [
    "print(df['avg_distance_overall'].median())\n",
    "print(df['avg_distance_overall'].mean())"
   ]
  },
  {
   "cell_type": "markdown",
   "metadata": {},
   "source": [
    "We'll replace the Null values in the 'avg_distance_overall' column with the respective mean distance from the user's region."
   ]
  },
  {
   "cell_type": "code",
   "execution_count": 22,
   "metadata": {},
   "outputs": [
    {
     "name": "stdout",
     "output_type": "stream",
     "text": [
      "region\n",
      "Austin           13435.711897\n",
      "Chicago           9572.853415\n",
      "Denver           11342.075331\n",
      "San Diego        13317.093406\n",
      "San Francisco     7764.943327\n",
      "San Jose         11535.861785\n",
      "Seattle          11122.262686\n",
      "Washington DC     2851.145865\n",
      "Name: avg_distance_overall, dtype: float64\n"
     ]
    }
   ],
   "source": [
    "regional_means = df.groupby(['region'])['avg_distance_overall'].mean()\n",
    "print(regional_means)"
   ]
  },
  {
   "cell_type": "code",
   "execution_count": 23,
   "metadata": {},
   "outputs": [],
   "source": [
    "# Temporarily index my dataframe by Region\n",
    "df = df.set_index(['region'])"
   ]
  },
  {
   "cell_type": "code",
   "execution_count": 24,
   "metadata": {},
   "outputs": [],
   "source": [
    "# Fill Null values by matching on region\n",
    "df['avg_distance_overall'].fillna(regional_means, inplace = True)"
   ]
  },
  {
   "cell_type": "code",
   "execution_count": 25,
   "metadata": {},
   "outputs": [],
   "source": [
    "# Reset index back to original numeric\n",
    "df = df.reset_index()"
   ]
  },
  {
   "cell_type": "code",
   "execution_count": 26,
   "metadata": {},
   "outputs": [
    {
     "data": {
      "text/html": [
       "<div>\n",
       "<style scoped>\n",
       "    .dataframe tbody tr th:only-of-type {\n",
       "        vertical-align: middle;\n",
       "    }\n",
       "\n",
       "    .dataframe tbody tr th {\n",
       "        vertical-align: top;\n",
       "    }\n",
       "\n",
       "    .dataframe thead th {\n",
       "        text-align: right;\n",
       "    }\n",
       "</style>\n",
       "<table border=\"1\" class=\"dataframe\">\n",
       "  <thead>\n",
       "    <tr style=\"text-align: right;\">\n",
       "      <th></th>\n",
       "      <th>region</th>\n",
       "      <th>source</th>\n",
       "      <th>campaign</th>\n",
       "      <th>preferred_doctor_gender</th>\n",
       "      <th>reason_for_visit</th>\n",
       "      <th>patient_insured</th>\n",
       "      <th>number_of_match_results</th>\n",
       "      <th>out_network_results_shown</th>\n",
       "      <th>in_network_results_shown</th>\n",
       "      <th>avg_distance_overall</th>\n",
       "      <th>appointment_requested</th>\n",
       "    </tr>\n",
       "  </thead>\n",
       "  <tbody>\n",
       "    <tr>\n",
       "      <td>0</td>\n",
       "      <td>San Jose</td>\n",
       "      <td>facebook</td>\n",
       "      <td>doctor_patient_acquisition</td>\n",
       "      <td>No Pref</td>\n",
       "      <td>Specific Treatment</td>\n",
       "      <td>f</td>\n",
       "      <td>9</td>\n",
       "      <td>0</td>\n",
       "      <td>0</td>\n",
       "      <td>10547.219510</td>\n",
       "      <td>f</td>\n",
       "    </tr>\n",
       "    <tr>\n",
       "      <td>1</td>\n",
       "      <td>San Diego</td>\n",
       "      <td>facebook</td>\n",
       "      <td>doctor_patient_acquisition</td>\n",
       "      <td>F</td>\n",
       "      <td>Checkup</td>\n",
       "      <td>f</td>\n",
       "      <td>2</td>\n",
       "      <td>0</td>\n",
       "      <td>0</td>\n",
       "      <td>20784.617720</td>\n",
       "      <td>f</td>\n",
       "    </tr>\n",
       "    <tr>\n",
       "      <td>2</td>\n",
       "      <td>Austin</td>\n",
       "      <td>Other</td>\n",
       "      <td>Unknown</td>\n",
       "      <td>No Pref</td>\n",
       "      <td>Checkup</td>\n",
       "      <td>t</td>\n",
       "      <td>9</td>\n",
       "      <td>8</td>\n",
       "      <td>1</td>\n",
       "      <td>8014.945931</td>\n",
       "      <td>t</td>\n",
       "    </tr>\n",
       "    <tr>\n",
       "      <td>3</td>\n",
       "      <td>Denver</td>\n",
       "      <td>facebook</td>\n",
       "      <td>doctor_patient_acquisition</td>\n",
       "      <td>No Pref</td>\n",
       "      <td>Specific Treatment</td>\n",
       "      <td>t</td>\n",
       "      <td>8</td>\n",
       "      <td>2</td>\n",
       "      <td>6</td>\n",
       "      <td>16651.158750</td>\n",
       "      <td>f</td>\n",
       "    </tr>\n",
       "    <tr>\n",
       "      <td>4</td>\n",
       "      <td>Chicago</td>\n",
       "      <td>facebook</td>\n",
       "      <td>doctor_patient_acquisition</td>\n",
       "      <td>F</td>\n",
       "      <td>Checkup</td>\n",
       "      <td>f</td>\n",
       "      <td>9</td>\n",
       "      <td>0</td>\n",
       "      <td>0</td>\n",
       "      <td>5216.934559</td>\n",
       "      <td>f</td>\n",
       "    </tr>\n",
       "  </tbody>\n",
       "</table>\n",
       "</div>"
      ],
      "text/plain": [
       "      region    source                    campaign preferred_doctor_gender  \\\n",
       "0   San Jose  facebook  doctor_patient_acquisition                 No Pref   \n",
       "1  San Diego  facebook  doctor_patient_acquisition                       F   \n",
       "2     Austin     Other                     Unknown                 No Pref   \n",
       "3     Denver  facebook  doctor_patient_acquisition                 No Pref   \n",
       "4    Chicago  facebook  doctor_patient_acquisition                       F   \n",
       "\n",
       "     reason_for_visit patient_insured  number_of_match_results  \\\n",
       "0  Specific Treatment               f                        9   \n",
       "1             Checkup               f                        2   \n",
       "2             Checkup               t                        9   \n",
       "3  Specific Treatment               t                        8   \n",
       "4             Checkup               f                        9   \n",
       "\n",
       "   out_network_results_shown  in_network_results_shown  avg_distance_overall  \\\n",
       "0                          0                         0          10547.219510   \n",
       "1                          0                         0          20784.617720   \n",
       "2                          8                         1           8014.945931   \n",
       "3                          2                         6          16651.158750   \n",
       "4                          0                         0           5216.934559   \n",
       "\n",
       "  appointment_requested  \n",
       "0                     f  \n",
       "1                     f  \n",
       "2                     t  \n",
       "3                     f  \n",
       "4                     f  "
      ]
     },
     "execution_count": 26,
     "metadata": {},
     "output_type": "execute_result"
    }
   ],
   "source": [
    "df.head()"
   ]
  },
  {
   "cell_type": "code",
   "execution_count": 27,
   "metadata": {},
   "outputs": [
    {
     "data": {
      "text/plain": [
       "region                       0\n",
       "source                       0\n",
       "campaign                     0\n",
       "preferred_doctor_gender      0\n",
       "reason_for_visit             0\n",
       "patient_insured              0\n",
       "number_of_match_results      0\n",
       "out_network_results_shown    0\n",
       "in_network_results_shown     0\n",
       "avg_distance_overall         0\n",
       "appointment_requested        0\n",
       "dtype: int64"
      ]
     },
     "execution_count": 27,
     "metadata": {},
     "output_type": "execute_result"
    }
   ],
   "source": [
    "df.isna().sum()"
   ]
  },
  {
   "cell_type": "code",
   "execution_count": 28,
   "metadata": {},
   "outputs": [
    {
     "name": "stdout",
     "output_type": "stream",
     "text": [
      "<class 'pandas.core.frame.DataFrame'>\n",
      "RangeIndex: 17503 entries, 0 to 17502\n",
      "Data columns (total 11 columns):\n",
      "region                       17503 non-null object\n",
      "source                       17503 non-null object\n",
      "campaign                     17503 non-null object\n",
      "preferred_doctor_gender      17503 non-null object\n",
      "reason_for_visit             17503 non-null object\n",
      "patient_insured              17503 non-null object\n",
      "number_of_match_results      17503 non-null int64\n",
      "out_network_results_shown    17503 non-null int64\n",
      "in_network_results_shown     17503 non-null int64\n",
      "avg_distance_overall         17503 non-null float64\n",
      "appointment_requested        17503 non-null object\n",
      "dtypes: float64(1), int64(3), object(7)\n",
      "memory usage: 1.5+ MB\n"
     ]
    }
   ],
   "source": [
    "df.info()"
   ]
  },
  {
   "cell_type": "markdown",
   "metadata": {},
   "source": [
    "#### Convert f/t columns to be 0/1"
   ]
  },
  {
   "cell_type": "code",
   "execution_count": 29,
   "metadata": {},
   "outputs": [],
   "source": [
    "df['appointment_requested'].replace(to_replace={'f': 0, 't':1}, inplace=True)"
   ]
  },
  {
   "cell_type": "code",
   "execution_count": 30,
   "metadata": {},
   "outputs": [],
   "source": [
    "df['patient_insured'].replace(to_replace={'f': 0, 't':1}, inplace=True)"
   ]
  },
  {
   "cell_type": "code",
   "execution_count": 31,
   "metadata": {},
   "outputs": [
    {
     "data": {
      "text/html": [
       "<div>\n",
       "<style scoped>\n",
       "    .dataframe tbody tr th:only-of-type {\n",
       "        vertical-align: middle;\n",
       "    }\n",
       "\n",
       "    .dataframe tbody tr th {\n",
       "        vertical-align: top;\n",
       "    }\n",
       "\n",
       "    .dataframe thead th {\n",
       "        text-align: right;\n",
       "    }\n",
       "</style>\n",
       "<table border=\"1\" class=\"dataframe\">\n",
       "  <thead>\n",
       "    <tr style=\"text-align: right;\">\n",
       "      <th></th>\n",
       "      <th>region</th>\n",
       "      <th>source</th>\n",
       "      <th>campaign</th>\n",
       "      <th>preferred_doctor_gender</th>\n",
       "      <th>reason_for_visit</th>\n",
       "      <th>patient_insured</th>\n",
       "      <th>number_of_match_results</th>\n",
       "      <th>out_network_results_shown</th>\n",
       "      <th>in_network_results_shown</th>\n",
       "      <th>avg_distance_overall</th>\n",
       "      <th>appointment_requested</th>\n",
       "    </tr>\n",
       "  </thead>\n",
       "  <tbody>\n",
       "    <tr>\n",
       "      <td>0</td>\n",
       "      <td>San Jose</td>\n",
       "      <td>facebook</td>\n",
       "      <td>doctor_patient_acquisition</td>\n",
       "      <td>No Pref</td>\n",
       "      <td>Specific Treatment</td>\n",
       "      <td>0</td>\n",
       "      <td>9</td>\n",
       "      <td>0</td>\n",
       "      <td>0</td>\n",
       "      <td>10547.219510</td>\n",
       "      <td>0</td>\n",
       "    </tr>\n",
       "    <tr>\n",
       "      <td>1</td>\n",
       "      <td>San Diego</td>\n",
       "      <td>facebook</td>\n",
       "      <td>doctor_patient_acquisition</td>\n",
       "      <td>F</td>\n",
       "      <td>Checkup</td>\n",
       "      <td>0</td>\n",
       "      <td>2</td>\n",
       "      <td>0</td>\n",
       "      <td>0</td>\n",
       "      <td>20784.617720</td>\n",
       "      <td>0</td>\n",
       "    </tr>\n",
       "    <tr>\n",
       "      <td>2</td>\n",
       "      <td>Austin</td>\n",
       "      <td>Other</td>\n",
       "      <td>Unknown</td>\n",
       "      <td>No Pref</td>\n",
       "      <td>Checkup</td>\n",
       "      <td>1</td>\n",
       "      <td>9</td>\n",
       "      <td>8</td>\n",
       "      <td>1</td>\n",
       "      <td>8014.945931</td>\n",
       "      <td>1</td>\n",
       "    </tr>\n",
       "    <tr>\n",
       "      <td>3</td>\n",
       "      <td>Denver</td>\n",
       "      <td>facebook</td>\n",
       "      <td>doctor_patient_acquisition</td>\n",
       "      <td>No Pref</td>\n",
       "      <td>Specific Treatment</td>\n",
       "      <td>1</td>\n",
       "      <td>8</td>\n",
       "      <td>2</td>\n",
       "      <td>6</td>\n",
       "      <td>16651.158750</td>\n",
       "      <td>0</td>\n",
       "    </tr>\n",
       "    <tr>\n",
       "      <td>4</td>\n",
       "      <td>Chicago</td>\n",
       "      <td>facebook</td>\n",
       "      <td>doctor_patient_acquisition</td>\n",
       "      <td>F</td>\n",
       "      <td>Checkup</td>\n",
       "      <td>0</td>\n",
       "      <td>9</td>\n",
       "      <td>0</td>\n",
       "      <td>0</td>\n",
       "      <td>5216.934559</td>\n",
       "      <td>0</td>\n",
       "    </tr>\n",
       "  </tbody>\n",
       "</table>\n",
       "</div>"
      ],
      "text/plain": [
       "      region    source                    campaign preferred_doctor_gender  \\\n",
       "0   San Jose  facebook  doctor_patient_acquisition                 No Pref   \n",
       "1  San Diego  facebook  doctor_patient_acquisition                       F   \n",
       "2     Austin     Other                     Unknown                 No Pref   \n",
       "3     Denver  facebook  doctor_patient_acquisition                 No Pref   \n",
       "4    Chicago  facebook  doctor_patient_acquisition                       F   \n",
       "\n",
       "     reason_for_visit  patient_insured  number_of_match_results  \\\n",
       "0  Specific Treatment                0                        9   \n",
       "1             Checkup                0                        2   \n",
       "2             Checkup                1                        9   \n",
       "3  Specific Treatment                1                        8   \n",
       "4             Checkup                0                        9   \n",
       "\n",
       "   out_network_results_shown  in_network_results_shown  avg_distance_overall  \\\n",
       "0                          0                         0          10547.219510   \n",
       "1                          0                         0          20784.617720   \n",
       "2                          8                         1           8014.945931   \n",
       "3                          2                         6          16651.158750   \n",
       "4                          0                         0           5216.934559   \n",
       "\n",
       "   appointment_requested  \n",
       "0                      0  \n",
       "1                      0  \n",
       "2                      1  \n",
       "3                      0  \n",
       "4                      0  "
      ]
     },
     "execution_count": 31,
     "metadata": {},
     "output_type": "execute_result"
    }
   ],
   "source": [
    "df.head()"
   ]
  },
  {
   "cell_type": "markdown",
   "metadata": {},
   "source": [
    "## Modelling\n",
    "\n",
    "With the data clean, we can now model the column of interest, 'appointment_requested'. For this initial investigation I'll use a logistic regression model, partially because of its quickness and partially because it gives very good visibility into the relevance of specific features for predicting the outcome."
   ]
  },
  {
   "cell_type": "code",
   "execution_count": 32,
   "metadata": {},
   "outputs": [],
   "source": [
    "# Define X & y\n",
    "X = df.iloc[:, :-1] # every column except the last one\n",
    "y = df['appointment_requested']"
   ]
  },
  {
   "cell_type": "code",
   "execution_count": 33,
   "metadata": {},
   "outputs": [],
   "source": [
    "# Turn our categorical columns into numerical columns with one-hot encoding\n",
    "# (i.e. create dummy variables)\n",
    "\n",
    "X = pd.get_dummies(X)"
   ]
  },
  {
   "cell_type": "code",
   "execution_count": 34,
   "metadata": {},
   "outputs": [
    {
     "name": "stderr",
     "output_type": "stream",
     "text": [
      "C:\\Users\\saleh\\Anaconda3\\lib\\site-packages\\numpy\\core\\fromnumeric.py:2389: FutureWarning: Method .ptp is deprecated and will be removed in a future version. Use numpy.ptp instead.\n",
      "  return ptp(axis=axis, out=out, **kwargs)\n",
      "C:\\Users\\saleh\\Anaconda3\\lib\\site-packages\\statsmodels\\base\\model.py:512: ConvergenceWarning: Maximum Likelihood optimization failed to converge. Check mle_retvals\n",
      "  \"Check mle_retvals\", ConvergenceWarning)\n",
      "C:\\Users\\saleh\\Anaconda3\\lib\\site-packages\\statsmodels\\base\\model.py:1286: RuntimeWarning: invalid value encountered in sqrt\n",
      "  bse_ = np.sqrt(np.diag(self.cov_params()))\n"
     ]
    },
    {
     "name": "stdout",
     "output_type": "stream",
     "text": [
      "Warning: Maximum number of iterations has been exceeded.\n",
      "         Current function value: 0.659924\n",
      "         Iterations: 35\n"
     ]
    },
    {
     "name": "stderr",
     "output_type": "stream",
     "text": [
      "C:\\Users\\saleh\\Anaconda3\\lib\\site-packages\\scipy\\stats\\_distn_infrastructure.py:901: RuntimeWarning: invalid value encountered in greater\n",
      "  return (a < x) & (x < b)\n",
      "C:\\Users\\saleh\\Anaconda3\\lib\\site-packages\\scipy\\stats\\_distn_infrastructure.py:901: RuntimeWarning: invalid value encountered in less\n",
      "  return (a < x) & (x < b)\n",
      "C:\\Users\\saleh\\Anaconda3\\lib\\site-packages\\scipy\\stats\\_distn_infrastructure.py:1892: RuntimeWarning: invalid value encountered in less_equal\n",
      "  cond2 = cond0 & (x <= _a)\n"
     ]
    },
    {
     "data": {
      "text/html": [
       "<table class=\"simpletable\">\n",
       "<caption>Logit Regression Results</caption>\n",
       "<tr>\n",
       "  <th>Dep. Variable:</th>   <td>appointment_requested</td> <th>  No. Observations:  </th>   <td> 17503</td>  \n",
       "</tr>\n",
       "<tr>\n",
       "  <th>Model:</th>                   <td>Logit</td>         <th>  Df Residuals:      </th>   <td> 17480</td>  \n",
       "</tr>\n",
       "<tr>\n",
       "  <th>Method:</th>                   <td>MLE</td>          <th>  Df Model:          </th>   <td>    22</td>  \n",
       "</tr>\n",
       "<tr>\n",
       "  <th>Date:</th>              <td>Fri, 15 Nov 2019</td>    <th>  Pseudo R-squ.:     </th>   <td>0.04652</td> \n",
       "</tr>\n",
       "<tr>\n",
       "  <th>Time:</th>                  <td>15:32:00</td>        <th>  Log-Likelihood:    </th>  <td> -11551.</td> \n",
       "</tr>\n",
       "<tr>\n",
       "  <th>converged:</th>               <td>False</td>         <th>  LL-Null:           </th>  <td> -12114.</td> \n",
       "</tr>\n",
       "<tr>\n",
       "  <th>Covariance Type:</th>       <td>nonrobust</td>       <th>  LLR p-value:       </th> <td>1.650e-224</td>\n",
       "</tr>\n",
       "</table>\n",
       "<table class=\"simpletable\">\n",
       "<tr>\n",
       "                   <td></td>                      <th>coef</th>     <th>std err</th>      <th>z</th>      <th>P>|z|</th>  <th>[0.025</th>    <th>0.975]</th>  \n",
       "</tr>\n",
       "<tr>\n",
       "  <th>const</th>                               <td>   -1.4742</td> <td>      nan</td> <td>      nan</td> <td>   nan</td> <td>      nan</td> <td>      nan</td>\n",
       "</tr>\n",
       "<tr>\n",
       "  <th>patient_insured</th>                     <td>    0.3691</td> <td>    0.121</td> <td>    3.045</td> <td> 0.002</td> <td>    0.132</td> <td>    0.607</td>\n",
       "</tr>\n",
       "<tr>\n",
       "  <th>number_of_match_results</th>             <td>    0.1257</td> <td>    0.014</td> <td>    9.019</td> <td> 0.000</td> <td>    0.098</td> <td>    0.153</td>\n",
       "</tr>\n",
       "<tr>\n",
       "  <th>out_network_results_shown</th>           <td>   -0.0298</td> <td>    0.016</td> <td>   -1.854</td> <td> 0.064</td> <td>   -0.061</td> <td>    0.002</td>\n",
       "</tr>\n",
       "<tr>\n",
       "  <th>in_network_results_shown</th>            <td>    0.0322</td> <td>    0.015</td> <td>    2.079</td> <td> 0.038</td> <td>    0.002</td> <td>    0.063</td>\n",
       "</tr>\n",
       "<tr>\n",
       "  <th>avg_distance_overall</th>                <td>-2.351e-05</td> <td>  3.5e-06</td> <td>   -6.709</td> <td> 0.000</td> <td>-3.04e-05</td> <td>-1.66e-05</td>\n",
       "</tr>\n",
       "<tr>\n",
       "  <th>region_Austin</th>                       <td>    2.2196</td> <td>      nan</td> <td>      nan</td> <td>   nan</td> <td>      nan</td> <td>      nan</td>\n",
       "</tr>\n",
       "<tr>\n",
       "  <th>region_Chicago</th>                      <td>    2.1464</td> <td>      nan</td> <td>      nan</td> <td>   nan</td> <td>      nan</td> <td>      nan</td>\n",
       "</tr>\n",
       "<tr>\n",
       "  <th>region_Denver</th>                       <td>    2.4058</td> <td>      nan</td> <td>      nan</td> <td>   nan</td> <td>      nan</td> <td>      nan</td>\n",
       "</tr>\n",
       "<tr>\n",
       "  <th>region_San Diego</th>                    <td>    2.3585</td> <td>      nan</td> <td>      nan</td> <td>   nan</td> <td>      nan</td> <td>      nan</td>\n",
       "</tr>\n",
       "<tr>\n",
       "  <th>region_San Francisco</th>                <td>    2.1589</td> <td>      nan</td> <td>      nan</td> <td>   nan</td> <td>      nan</td> <td>      nan</td>\n",
       "</tr>\n",
       "<tr>\n",
       "  <th>region_San Jose</th>                     <td>    2.0473</td> <td>      nan</td> <td>      nan</td> <td>   nan</td> <td>      nan</td> <td>      nan</td>\n",
       "</tr>\n",
       "<tr>\n",
       "  <th>region_Seattle</th>                      <td>    2.2295</td> <td>      nan</td> <td>      nan</td> <td>   nan</td> <td>      nan</td> <td>      nan</td>\n",
       "</tr>\n",
       "<tr>\n",
       "  <th>region_Washington DC</th>                <td>  -17.0401</td> <td>      nan</td> <td>      nan</td> <td>   nan</td> <td>      nan</td> <td>      nan</td>\n",
       "</tr>\n",
       "<tr>\n",
       "  <th>source_Other</th>                        <td>   -0.5544</td> <td> 2.17e+06</td> <td>-2.55e-07</td> <td> 1.000</td> <td>-4.26e+06</td> <td> 4.26e+06</td>\n",
       "</tr>\n",
       "<tr>\n",
       "  <th>source_adwords</th>                      <td>   -0.4757</td> <td> 2.48e+06</td> <td>-1.92e-07</td> <td> 1.000</td> <td>-4.87e+06</td> <td> 4.87e+06</td>\n",
       "</tr>\n",
       "<tr>\n",
       "  <th>source_facebook</th>                     <td>   -0.4440</td> <td> 2.28e+06</td> <td>-1.95e-07</td> <td> 1.000</td> <td>-4.46e+06</td> <td> 4.46e+06</td>\n",
       "</tr>\n",
       "<tr>\n",
       "  <th>campaign_Other</th>                      <td>   -0.2872</td> <td> 2.91e+06</td> <td>-9.86e-08</td> <td> 1.000</td> <td>-5.71e+06</td> <td> 5.71e+06</td>\n",
       "</tr>\n",
       "<tr>\n",
       "  <th>campaign_Unknown</th>                    <td>   -0.1559</td> <td> 2.92e+06</td> <td>-5.34e-08</td> <td> 1.000</td> <td>-5.72e+06</td> <td> 5.72e+06</td>\n",
       "</tr>\n",
       "<tr>\n",
       "  <th>campaign_doctor_patient_acquisition</th> <td>   -0.4152</td> <td> 2.92e+06</td> <td>-1.42e-07</td> <td> 1.000</td> <td>-5.73e+06</td> <td> 5.73e+06</td>\n",
       "</tr>\n",
       "<tr>\n",
       "  <th>campaign_patient_leads</th>              <td>    0.3255</td> <td>  2.9e+06</td> <td> 1.12e-07</td> <td> 1.000</td> <td>-5.68e+06</td> <td> 5.68e+06</td>\n",
       "</tr>\n",
       "<tr>\n",
       "  <th>campaign_search</th>                     <td>   -0.9414</td> <td> 2.94e+06</td> <td>-3.21e-07</td> <td> 1.000</td> <td>-5.75e+06</td> <td> 5.75e+06</td>\n",
       "</tr>\n",
       "<tr>\n",
       "  <th>preferred_doctor_gender_F</th>           <td>   -0.4448</td> <td> 1.09e+06</td> <td>-4.06e-07</td> <td> 1.000</td> <td>-2.15e+06</td> <td> 2.15e+06</td>\n",
       "</tr>\n",
       "<tr>\n",
       "  <th>preferred_doctor_gender_M</th>           <td>   -0.4937</td> <td> 1.09e+06</td> <td>-4.51e-07</td> <td> 1.000</td> <td>-2.15e+06</td> <td> 2.15e+06</td>\n",
       "</tr>\n",
       "<tr>\n",
       "  <th>preferred_doctor_gender_No Pref</th>     <td>   -0.5357</td> <td> 1.09e+06</td> <td>-4.89e-07</td> <td> 1.000</td> <td>-2.15e+06</td> <td> 2.15e+06</td>\n",
       "</tr>\n",
       "<tr>\n",
       "  <th>reason_for_visit_Checkup</th>            <td>   -0.4318</td> <td>      nan</td> <td>      nan</td> <td>   nan</td> <td>      nan</td> <td>      nan</td>\n",
       "</tr>\n",
       "<tr>\n",
       "  <th>reason_for_visit_Specific Treatment</th> <td>   -0.6565</td> <td>      nan</td> <td>      nan</td> <td>   nan</td> <td>      nan</td> <td>      nan</td>\n",
       "</tr>\n",
       "<tr>\n",
       "  <th>reason_for_visit_Urgent Issue</th>       <td>   -0.3859</td> <td>      nan</td> <td>      nan</td> <td>   nan</td> <td>      nan</td> <td>      nan</td>\n",
       "</tr>\n",
       "</table>"
      ],
      "text/plain": [
       "<class 'statsmodels.iolib.summary.Summary'>\n",
       "\"\"\"\n",
       "                             Logit Regression Results                            \n",
       "=================================================================================\n",
       "Dep. Variable:     appointment_requested   No. Observations:                17503\n",
       "Model:                             Logit   Df Residuals:                    17480\n",
       "Method:                              MLE   Df Model:                           22\n",
       "Date:                   Fri, 15 Nov 2019   Pseudo R-squ.:                 0.04652\n",
       "Time:                           15:32:00   Log-Likelihood:                -11551.\n",
       "converged:                         False   LL-Null:                       -12114.\n",
       "Covariance Type:               nonrobust   LLR p-value:                1.650e-224\n",
       "=======================================================================================================\n",
       "                                          coef    std err          z      P>|z|      [0.025      0.975]\n",
       "-------------------------------------------------------------------------------------------------------\n",
       "const                                  -1.4742        nan        nan        nan         nan         nan\n",
       "patient_insured                         0.3691      0.121      3.045      0.002       0.132       0.607\n",
       "number_of_match_results                 0.1257      0.014      9.019      0.000       0.098       0.153\n",
       "out_network_results_shown              -0.0298      0.016     -1.854      0.064      -0.061       0.002\n",
       "in_network_results_shown                0.0322      0.015      2.079      0.038       0.002       0.063\n",
       "avg_distance_overall                -2.351e-05    3.5e-06     -6.709      0.000   -3.04e-05   -1.66e-05\n",
       "region_Austin                           2.2196        nan        nan        nan         nan         nan\n",
       "region_Chicago                          2.1464        nan        nan        nan         nan         nan\n",
       "region_Denver                           2.4058        nan        nan        nan         nan         nan\n",
       "region_San Diego                        2.3585        nan        nan        nan         nan         nan\n",
       "region_San Francisco                    2.1589        nan        nan        nan         nan         nan\n",
       "region_San Jose                         2.0473        nan        nan        nan         nan         nan\n",
       "region_Seattle                          2.2295        nan        nan        nan         nan         nan\n",
       "region_Washington DC                  -17.0401        nan        nan        nan         nan         nan\n",
       "source_Other                           -0.5544   2.17e+06  -2.55e-07      1.000   -4.26e+06    4.26e+06\n",
       "source_adwords                         -0.4757   2.48e+06  -1.92e-07      1.000   -4.87e+06    4.87e+06\n",
       "source_facebook                        -0.4440   2.28e+06  -1.95e-07      1.000   -4.46e+06    4.46e+06\n",
       "campaign_Other                         -0.2872   2.91e+06  -9.86e-08      1.000   -5.71e+06    5.71e+06\n",
       "campaign_Unknown                       -0.1559   2.92e+06  -5.34e-08      1.000   -5.72e+06    5.72e+06\n",
       "campaign_doctor_patient_acquisition    -0.4152   2.92e+06  -1.42e-07      1.000   -5.73e+06    5.73e+06\n",
       "campaign_patient_leads                  0.3255    2.9e+06   1.12e-07      1.000   -5.68e+06    5.68e+06\n",
       "campaign_search                        -0.9414   2.94e+06  -3.21e-07      1.000   -5.75e+06    5.75e+06\n",
       "preferred_doctor_gender_F              -0.4448   1.09e+06  -4.06e-07      1.000   -2.15e+06    2.15e+06\n",
       "preferred_doctor_gender_M              -0.4937   1.09e+06  -4.51e-07      1.000   -2.15e+06    2.15e+06\n",
       "preferred_doctor_gender_No Pref        -0.5357   1.09e+06  -4.89e-07      1.000   -2.15e+06    2.15e+06\n",
       "reason_for_visit_Checkup               -0.4318        nan        nan        nan         nan         nan\n",
       "reason_for_visit_Specific Treatment    -0.6565        nan        nan        nan         nan         nan\n",
       "reason_for_visit_Urgent Issue          -0.3859        nan        nan        nan         nan         nan\n",
       "=======================================================================================================\n",
       "\"\"\""
      ]
     },
     "execution_count": 34,
     "metadata": {},
     "output_type": "execute_result"
    }
   ],
   "source": [
    "# Import the statsmodels package to run the logistic regression\n",
    "import statsmodels.api as sm\n",
    "\n",
    "# Add constant term\n",
    "X = sm.add_constant(X)\n",
    "\n",
    "# Instantiate & fit the model\n",
    "my_logreg = sm.Logit(y, X).fit()\n",
    "\n",
    "# Evaluate at the results\n",
    "my_logreg.summary()"
   ]
  },
  {
   "cell_type": "markdown",
   "metadata": {},
   "source": [
    "#### Summary\n",
    "\n",
    "Hmmm... looks like our data isn't as clean as we thought. Although the numerical seem to be giving us sensible answers.\n",
    "\n",
    "We can see that a patient being insured leads to a higher likelihood to request an appointment, so I would recommend that the marketing team target insured people.\n",
    "\n",
    "We also see that users are more likely to request an appointment when there are more search results and those search results are closer to them. Based on this I would recommend that the marketing team try to increase the number of doctors on the app in highly populated areas.\n",
    "\n",
    "With a p-value above 0.05, we can't conclude that the number of out-of-network-results-shown has a significant impact on likelihood to request an appointment.\n",
    "- - - \n",
    "\n",
    "Stay tuned next time to see how we can remove multicolinearity from our categorical columns and get more sensible results overall."
   ]
  },
  {
   "cell_type": "code",
   "execution_count": 37,
   "metadata": {
    "scrolled": true
   },
   "outputs": [
    {
     "data": {
      "text/html": [
       "<div>\n",
       "<style scoped>\n",
       "    .dataframe tbody tr th:only-of-type {\n",
       "        vertical-align: middle;\n",
       "    }\n",
       "\n",
       "    .dataframe tbody tr th {\n",
       "        vertical-align: top;\n",
       "    }\n",
       "\n",
       "    .dataframe thead th {\n",
       "        text-align: right;\n",
       "    }\n",
       "</style>\n",
       "<table border=\"1\" class=\"dataframe\">\n",
       "  <thead>\n",
       "    <tr style=\"text-align: right;\">\n",
       "      <th></th>\n",
       "      <th>region</th>\n",
       "      <th>source</th>\n",
       "      <th>campaign</th>\n",
       "      <th>preferred_doctor_gender</th>\n",
       "      <th>reason_for_visit</th>\n",
       "      <th>patient_insured</th>\n",
       "      <th>number_of_match_results</th>\n",
       "      <th>out_network_results_shown</th>\n",
       "      <th>in_network_results_shown</th>\n",
       "      <th>avg_distance_overall</th>\n",
       "      <th>appointment_requested</th>\n",
       "    </tr>\n",
       "  </thead>\n",
       "  <tbody>\n",
       "    <tr>\n",
       "      <td>0</td>\n",
       "      <td>San Jose</td>\n",
       "      <td>facebook</td>\n",
       "      <td>doctor_patient_acquisition</td>\n",
       "      <td>No Pref</td>\n",
       "      <td>Specific Treatment</td>\n",
       "      <td>0</td>\n",
       "      <td>9</td>\n",
       "      <td>0</td>\n",
       "      <td>0</td>\n",
       "      <td>10547.219510</td>\n",
       "      <td>0</td>\n",
       "    </tr>\n",
       "    <tr>\n",
       "      <td>1</td>\n",
       "      <td>San Diego</td>\n",
       "      <td>facebook</td>\n",
       "      <td>doctor_patient_acquisition</td>\n",
       "      <td>F</td>\n",
       "      <td>Checkup</td>\n",
       "      <td>0</td>\n",
       "      <td>2</td>\n",
       "      <td>0</td>\n",
       "      <td>0</td>\n",
       "      <td>20784.617720</td>\n",
       "      <td>0</td>\n",
       "    </tr>\n",
       "    <tr>\n",
       "      <td>2</td>\n",
       "      <td>Austin</td>\n",
       "      <td>Other</td>\n",
       "      <td>Unknown</td>\n",
       "      <td>No Pref</td>\n",
       "      <td>Checkup</td>\n",
       "      <td>1</td>\n",
       "      <td>9</td>\n",
       "      <td>8</td>\n",
       "      <td>1</td>\n",
       "      <td>8014.945931</td>\n",
       "      <td>1</td>\n",
       "    </tr>\n",
       "    <tr>\n",
       "      <td>3</td>\n",
       "      <td>Denver</td>\n",
       "      <td>facebook</td>\n",
       "      <td>doctor_patient_acquisition</td>\n",
       "      <td>No Pref</td>\n",
       "      <td>Specific Treatment</td>\n",
       "      <td>1</td>\n",
       "      <td>8</td>\n",
       "      <td>2</td>\n",
       "      <td>6</td>\n",
       "      <td>16651.158750</td>\n",
       "      <td>0</td>\n",
       "    </tr>\n",
       "    <tr>\n",
       "      <td>4</td>\n",
       "      <td>Chicago</td>\n",
       "      <td>facebook</td>\n",
       "      <td>doctor_patient_acquisition</td>\n",
       "      <td>F</td>\n",
       "      <td>Checkup</td>\n",
       "      <td>0</td>\n",
       "      <td>9</td>\n",
       "      <td>0</td>\n",
       "      <td>0</td>\n",
       "      <td>5216.934559</td>\n",
       "      <td>0</td>\n",
       "    </tr>\n",
       "  </tbody>\n",
       "</table>\n",
       "</div>"
      ],
      "text/plain": [
       "      region    source                    campaign preferred_doctor_gender  \\\n",
       "0   San Jose  facebook  doctor_patient_acquisition                 No Pref   \n",
       "1  San Diego  facebook  doctor_patient_acquisition                       F   \n",
       "2     Austin     Other                     Unknown                 No Pref   \n",
       "3     Denver  facebook  doctor_patient_acquisition                 No Pref   \n",
       "4    Chicago  facebook  doctor_patient_acquisition                       F   \n",
       "\n",
       "     reason_for_visit  patient_insured  number_of_match_results  \\\n",
       "0  Specific Treatment                0                        9   \n",
       "1             Checkup                0                        2   \n",
       "2             Checkup                1                        9   \n",
       "3  Specific Treatment                1                        8   \n",
       "4             Checkup                0                        9   \n",
       "\n",
       "   out_network_results_shown  in_network_results_shown  avg_distance_overall  \\\n",
       "0                          0                         0          10547.219510   \n",
       "1                          0                         0          20784.617720   \n",
       "2                          8                         1           8014.945931   \n",
       "3                          2                         6          16651.158750   \n",
       "4                          0                         0           5216.934559   \n",
       "\n",
       "   appointment_requested  \n",
       "0                      0  \n",
       "1                      0  \n",
       "2                      1  \n",
       "3                      0  \n",
       "4                      0  "
      ]
     },
     "execution_count": 37,
     "metadata": {},
     "output_type": "execute_result"
    }
   ],
   "source": [
    "df.head()"
   ]
  },
  {
   "cell_type": "code",
   "execution_count": 41,
   "metadata": {},
   "outputs": [],
   "source": [
    "X = df.drop(['reason_for_visit'], axis=1)"
   ]
  },
  {
   "cell_type": "code",
   "execution_count": 47,
   "metadata": {},
   "outputs": [],
   "source": [
    "X = pd.get_dummies(X)"
   ]
  },
  {
   "cell_type": "code",
   "execution_count": 48,
   "metadata": {
    "collapsed": true
   },
   "outputs": [
    {
     "data": {
      "text/html": [
       "<div>\n",
       "<style scoped>\n",
       "    .dataframe tbody tr th:only-of-type {\n",
       "        vertical-align: middle;\n",
       "    }\n",
       "\n",
       "    .dataframe tbody tr th {\n",
       "        vertical-align: top;\n",
       "    }\n",
       "\n",
       "    .dataframe thead th {\n",
       "        text-align: right;\n",
       "    }\n",
       "</style>\n",
       "<table border=\"1\" class=\"dataframe\">\n",
       "  <thead>\n",
       "    <tr style=\"text-align: right;\">\n",
       "      <th></th>\n",
       "      <th>patient_insured</th>\n",
       "      <th>number_of_match_results</th>\n",
       "      <th>out_network_results_shown</th>\n",
       "      <th>in_network_results_shown</th>\n",
       "      <th>avg_distance_overall</th>\n",
       "      <th>appointment_requested</th>\n",
       "      <th>region_Austin</th>\n",
       "      <th>region_Chicago</th>\n",
       "      <th>region_Denver</th>\n",
       "      <th>region_San Diego</th>\n",
       "      <th>...</th>\n",
       "      <th>source_adwords</th>\n",
       "      <th>source_facebook</th>\n",
       "      <th>campaign_Other</th>\n",
       "      <th>campaign_Unknown</th>\n",
       "      <th>campaign_doctor_patient_acquisition</th>\n",
       "      <th>campaign_patient_leads</th>\n",
       "      <th>campaign_search</th>\n",
       "      <th>preferred_doctor_gender_F</th>\n",
       "      <th>preferred_doctor_gender_M</th>\n",
       "      <th>preferred_doctor_gender_No Pref</th>\n",
       "    </tr>\n",
       "  </thead>\n",
       "  <tbody>\n",
       "    <tr>\n",
       "      <td>0</td>\n",
       "      <td>0</td>\n",
       "      <td>9</td>\n",
       "      <td>0</td>\n",
       "      <td>0</td>\n",
       "      <td>10547.219510</td>\n",
       "      <td>0</td>\n",
       "      <td>0</td>\n",
       "      <td>0</td>\n",
       "      <td>0</td>\n",
       "      <td>0</td>\n",
       "      <td>...</td>\n",
       "      <td>0</td>\n",
       "      <td>1</td>\n",
       "      <td>0</td>\n",
       "      <td>0</td>\n",
       "      <td>1</td>\n",
       "      <td>0</td>\n",
       "      <td>0</td>\n",
       "      <td>0</td>\n",
       "      <td>0</td>\n",
       "      <td>1</td>\n",
       "    </tr>\n",
       "    <tr>\n",
       "      <td>1</td>\n",
       "      <td>0</td>\n",
       "      <td>2</td>\n",
       "      <td>0</td>\n",
       "      <td>0</td>\n",
       "      <td>20784.617720</td>\n",
       "      <td>0</td>\n",
       "      <td>0</td>\n",
       "      <td>0</td>\n",
       "      <td>0</td>\n",
       "      <td>1</td>\n",
       "      <td>...</td>\n",
       "      <td>0</td>\n",
       "      <td>1</td>\n",
       "      <td>0</td>\n",
       "      <td>0</td>\n",
       "      <td>1</td>\n",
       "      <td>0</td>\n",
       "      <td>0</td>\n",
       "      <td>1</td>\n",
       "      <td>0</td>\n",
       "      <td>0</td>\n",
       "    </tr>\n",
       "    <tr>\n",
       "      <td>2</td>\n",
       "      <td>1</td>\n",
       "      <td>9</td>\n",
       "      <td>8</td>\n",
       "      <td>1</td>\n",
       "      <td>8014.945931</td>\n",
       "      <td>1</td>\n",
       "      <td>1</td>\n",
       "      <td>0</td>\n",
       "      <td>0</td>\n",
       "      <td>0</td>\n",
       "      <td>...</td>\n",
       "      <td>0</td>\n",
       "      <td>0</td>\n",
       "      <td>0</td>\n",
       "      <td>1</td>\n",
       "      <td>0</td>\n",
       "      <td>0</td>\n",
       "      <td>0</td>\n",
       "      <td>0</td>\n",
       "      <td>0</td>\n",
       "      <td>1</td>\n",
       "    </tr>\n",
       "    <tr>\n",
       "      <td>3</td>\n",
       "      <td>1</td>\n",
       "      <td>8</td>\n",
       "      <td>2</td>\n",
       "      <td>6</td>\n",
       "      <td>16651.158750</td>\n",
       "      <td>0</td>\n",
       "      <td>0</td>\n",
       "      <td>0</td>\n",
       "      <td>1</td>\n",
       "      <td>0</td>\n",
       "      <td>...</td>\n",
       "      <td>0</td>\n",
       "      <td>1</td>\n",
       "      <td>0</td>\n",
       "      <td>0</td>\n",
       "      <td>1</td>\n",
       "      <td>0</td>\n",
       "      <td>0</td>\n",
       "      <td>0</td>\n",
       "      <td>0</td>\n",
       "      <td>1</td>\n",
       "    </tr>\n",
       "    <tr>\n",
       "      <td>4</td>\n",
       "      <td>0</td>\n",
       "      <td>9</td>\n",
       "      <td>0</td>\n",
       "      <td>0</td>\n",
       "      <td>5216.934559</td>\n",
       "      <td>0</td>\n",
       "      <td>0</td>\n",
       "      <td>1</td>\n",
       "      <td>0</td>\n",
       "      <td>0</td>\n",
       "      <td>...</td>\n",
       "      <td>0</td>\n",
       "      <td>1</td>\n",
       "      <td>0</td>\n",
       "      <td>0</td>\n",
       "      <td>1</td>\n",
       "      <td>0</td>\n",
       "      <td>0</td>\n",
       "      <td>1</td>\n",
       "      <td>0</td>\n",
       "      <td>0</td>\n",
       "    </tr>\n",
       "    <tr>\n",
       "      <td>...</td>\n",
       "      <td>...</td>\n",
       "      <td>...</td>\n",
       "      <td>...</td>\n",
       "      <td>...</td>\n",
       "      <td>...</td>\n",
       "      <td>...</td>\n",
       "      <td>...</td>\n",
       "      <td>...</td>\n",
       "      <td>...</td>\n",
       "      <td>...</td>\n",
       "      <td>...</td>\n",
       "      <td>...</td>\n",
       "      <td>...</td>\n",
       "      <td>...</td>\n",
       "      <td>...</td>\n",
       "      <td>...</td>\n",
       "      <td>...</td>\n",
       "      <td>...</td>\n",
       "      <td>...</td>\n",
       "      <td>...</td>\n",
       "      <td>...</td>\n",
       "    </tr>\n",
       "    <tr>\n",
       "      <td>17498</td>\n",
       "      <td>0</td>\n",
       "      <td>9</td>\n",
       "      <td>0</td>\n",
       "      <td>0</td>\n",
       "      <td>7353.117395</td>\n",
       "      <td>1</td>\n",
       "      <td>0</td>\n",
       "      <td>1</td>\n",
       "      <td>0</td>\n",
       "      <td>0</td>\n",
       "      <td>...</td>\n",
       "      <td>0</td>\n",
       "      <td>0</td>\n",
       "      <td>0</td>\n",
       "      <td>1</td>\n",
       "      <td>0</td>\n",
       "      <td>0</td>\n",
       "      <td>0</td>\n",
       "      <td>1</td>\n",
       "      <td>0</td>\n",
       "      <td>0</td>\n",
       "    </tr>\n",
       "    <tr>\n",
       "      <td>17499</td>\n",
       "      <td>1</td>\n",
       "      <td>6</td>\n",
       "      <td>1</td>\n",
       "      <td>5</td>\n",
       "      <td>6533.222726</td>\n",
       "      <td>1</td>\n",
       "      <td>0</td>\n",
       "      <td>0</td>\n",
       "      <td>0</td>\n",
       "      <td>0</td>\n",
       "      <td>...</td>\n",
       "      <td>0</td>\n",
       "      <td>1</td>\n",
       "      <td>0</td>\n",
       "      <td>0</td>\n",
       "      <td>1</td>\n",
       "      <td>0</td>\n",
       "      <td>0</td>\n",
       "      <td>0</td>\n",
       "      <td>1</td>\n",
       "      <td>0</td>\n",
       "    </tr>\n",
       "    <tr>\n",
       "      <td>17500</td>\n",
       "      <td>0</td>\n",
       "      <td>8</td>\n",
       "      <td>0</td>\n",
       "      <td>0</td>\n",
       "      <td>2772.480509</td>\n",
       "      <td>1</td>\n",
       "      <td>0</td>\n",
       "      <td>0</td>\n",
       "      <td>0</td>\n",
       "      <td>0</td>\n",
       "      <td>...</td>\n",
       "      <td>0</td>\n",
       "      <td>1</td>\n",
       "      <td>0</td>\n",
       "      <td>0</td>\n",
       "      <td>1</td>\n",
       "      <td>0</td>\n",
       "      <td>0</td>\n",
       "      <td>0</td>\n",
       "      <td>0</td>\n",
       "      <td>1</td>\n",
       "    </tr>\n",
       "    <tr>\n",
       "      <td>17501</td>\n",
       "      <td>0</td>\n",
       "      <td>9</td>\n",
       "      <td>0</td>\n",
       "      <td>0</td>\n",
       "      <td>11429.802840</td>\n",
       "      <td>1</td>\n",
       "      <td>0</td>\n",
       "      <td>0</td>\n",
       "      <td>0</td>\n",
       "      <td>0</td>\n",
       "      <td>...</td>\n",
       "      <td>0</td>\n",
       "      <td>0</td>\n",
       "      <td>1</td>\n",
       "      <td>0</td>\n",
       "      <td>0</td>\n",
       "      <td>0</td>\n",
       "      <td>0</td>\n",
       "      <td>0</td>\n",
       "      <td>0</td>\n",
       "      <td>1</td>\n",
       "    </tr>\n",
       "    <tr>\n",
       "      <td>17502</td>\n",
       "      <td>1</td>\n",
       "      <td>9</td>\n",
       "      <td>3</td>\n",
       "      <td>6</td>\n",
       "      <td>11846.652632</td>\n",
       "      <td>1</td>\n",
       "      <td>1</td>\n",
       "      <td>0</td>\n",
       "      <td>0</td>\n",
       "      <td>0</td>\n",
       "      <td>...</td>\n",
       "      <td>0</td>\n",
       "      <td>1</td>\n",
       "      <td>0</td>\n",
       "      <td>0</td>\n",
       "      <td>1</td>\n",
       "      <td>0</td>\n",
       "      <td>0</td>\n",
       "      <td>0</td>\n",
       "      <td>0</td>\n",
       "      <td>1</td>\n",
       "    </tr>\n",
       "  </tbody>\n",
       "</table>\n",
       "<p>17503 rows × 25 columns</p>\n",
       "</div>"
      ],
      "text/plain": [
       "       patient_insured  number_of_match_results  out_network_results_shown  \\\n",
       "0                    0                        9                          0   \n",
       "1                    0                        2                          0   \n",
       "2                    1                        9                          8   \n",
       "3                    1                        8                          2   \n",
       "4                    0                        9                          0   \n",
       "...                ...                      ...                        ...   \n",
       "17498                0                        9                          0   \n",
       "17499                1                        6                          1   \n",
       "17500                0                        8                          0   \n",
       "17501                0                        9                          0   \n",
       "17502                1                        9                          3   \n",
       "\n",
       "       in_network_results_shown  avg_distance_overall  appointment_requested  \\\n",
       "0                             0          10547.219510                      0   \n",
       "1                             0          20784.617720                      0   \n",
       "2                             1           8014.945931                      1   \n",
       "3                             6          16651.158750                      0   \n",
       "4                             0           5216.934559                      0   \n",
       "...                         ...                   ...                    ...   \n",
       "17498                         0           7353.117395                      1   \n",
       "17499                         5           6533.222726                      1   \n",
       "17500                         0           2772.480509                      1   \n",
       "17501                         0          11429.802840                      1   \n",
       "17502                         6          11846.652632                      1   \n",
       "\n",
       "       region_Austin  region_Chicago  region_Denver  region_San Diego  ...  \\\n",
       "0                  0               0              0                 0  ...   \n",
       "1                  0               0              0                 1  ...   \n",
       "2                  1               0              0                 0  ...   \n",
       "3                  0               0              1                 0  ...   \n",
       "4                  0               1              0                 0  ...   \n",
       "...              ...             ...            ...               ...  ...   \n",
       "17498              0               1              0                 0  ...   \n",
       "17499              0               0              0                 0  ...   \n",
       "17500              0               0              0                 0  ...   \n",
       "17501              0               0              0                 0  ...   \n",
       "17502              1               0              0                 0  ...   \n",
       "\n",
       "       source_adwords  source_facebook  campaign_Other  campaign_Unknown  \\\n",
       "0                   0                1               0                 0   \n",
       "1                   0                1               0                 0   \n",
       "2                   0                0               0                 1   \n",
       "3                   0                1               0                 0   \n",
       "4                   0                1               0                 0   \n",
       "...               ...              ...             ...               ...   \n",
       "17498               0                0               0                 1   \n",
       "17499               0                1               0                 0   \n",
       "17500               0                1               0                 0   \n",
       "17501               0                0               1                 0   \n",
       "17502               0                1               0                 0   \n",
       "\n",
       "       campaign_doctor_patient_acquisition  campaign_patient_leads  \\\n",
       "0                                        1                       0   \n",
       "1                                        1                       0   \n",
       "2                                        0                       0   \n",
       "3                                        1                       0   \n",
       "4                                        1                       0   \n",
       "...                                    ...                     ...   \n",
       "17498                                    0                       0   \n",
       "17499                                    1                       0   \n",
       "17500                                    1                       0   \n",
       "17501                                    0                       0   \n",
       "17502                                    1                       0   \n",
       "\n",
       "       campaign_search  preferred_doctor_gender_F  preferred_doctor_gender_M  \\\n",
       "0                    0                          0                          0   \n",
       "1                    0                          1                          0   \n",
       "2                    0                          0                          0   \n",
       "3                    0                          0                          0   \n",
       "4                    0                          1                          0   \n",
       "...                ...                        ...                        ...   \n",
       "17498                0                          1                          0   \n",
       "17499                0                          0                          1   \n",
       "17500                0                          0                          0   \n",
       "17501                0                          0                          0   \n",
       "17502                0                          0                          0   \n",
       "\n",
       "       preferred_doctor_gender_No Pref  \n",
       "0                                    1  \n",
       "1                                    0  \n",
       "2                                    1  \n",
       "3                                    1  \n",
       "4                                    0  \n",
       "...                                ...  \n",
       "17498                                0  \n",
       "17499                                0  \n",
       "17500                                1  \n",
       "17501                                1  \n",
       "17502                                1  \n",
       "\n",
       "[17503 rows x 25 columns]"
      ]
     },
     "execution_count": 48,
     "metadata": {},
     "output_type": "execute_result"
    }
   ],
   "source": [
    "X"
   ]
  },
  {
   "cell_type": "code",
   "execution_count": 43,
   "metadata": {},
   "outputs": [],
   "source": [
    "y = df['reason_for_visit']"
   ]
  },
  {
   "cell_type": "code",
   "execution_count": 44,
   "metadata": {},
   "outputs": [
    {
     "data": {
      "text/plain": [
       "0        Specific Treatment\n",
       "1                   Checkup\n",
       "2                   Checkup\n",
       "3        Specific Treatment\n",
       "4                   Checkup\n",
       "                ...        \n",
       "17498               Checkup\n",
       "17499               Checkup\n",
       "17500               Checkup\n",
       "17501               Checkup\n",
       "17502          Urgent Issue\n",
       "Name: reason_for_visit, Length: 17503, dtype: object"
      ]
     },
     "execution_count": 44,
     "metadata": {},
     "output_type": "execute_result"
    }
   ],
   "source": [
    "y"
   ]
  },
  {
   "cell_type": "code",
   "execution_count": 57,
   "metadata": {},
   "outputs": [],
   "source": [
    "from sklearn.model_selection import train_test_split\n",
    "from sklearn.preprocessing import StandardScaler\n",
    "from sklearn.decomposition import PCA, KernelPCA\n",
    "from sklearn.pipeline import Pipeline\n",
    "from sklearn.linear_model import LogisticRegression\n",
    "from sklearn.model_selection import GridSearchCV\n",
    "from sklearn.ensemble import RandomForestClassifier\n",
    "from sklearn import svm\n",
    "\n",
    "# Ignore futurewarnings\n",
    "import warnings\n",
    "warnings.filterwarnings('ignore')\n",
    "\n",
    "# Split the data into train &  test\n",
    "X_train, X_test, y_train, y_test = train_test_split(X, y, test_size=0.4, random_state=42)"
   ]
  },
  {
   "cell_type": "code",
   "execution_count": 58,
   "metadata": {},
   "outputs": [],
   "source": [
    "# Create a pipeline\n",
    "doc_est = [('Normalise', StandardScaler()),\n",
    "            ('Reduce', PCA()),\n",
    "            ('Model', LogisticRegression())]\n",
    "\n",
    "doc_pipe = Pipeline(doc_est)"
   ]
  },
  {
   "cell_type": "code",
   "execution_count": 71,
   "metadata": {},
   "outputs": [],
   "source": [
    "# Set the GridSearch Parameters, or the parameters that can be changed in each model for it to run through them all\n",
    "# It is in a dictionary format, you label each step, and set what you want changed in each step, with a DOUBLE __ before a\n",
    "# parameter.\n",
    "\n",
    "# EG: (Step Name)__(Parameter): [LIST OF VALUES TO TRY]\n",
    "\n",
    "param_grid = [{\n",
    "    'Normalise': [StandardScaler(), None],\n",
    "    'Reduce': [None],\n",
    "    'Model': [LogisticRegression()],\n",
    "    'Model__C': [0.001, 0.01, 0.1, 1, 100],\n",
    "    'Model__penalty': ['l1', 'l2']\n",
    "},\n",
    "    \n",
    "{\n",
    "    'Normalise': [StandardScaler(), None],\n",
    "    'Reduce': [PCA()],\n",
    "    'Reduce__n_components': [1,2,3],\n",
    "    'Model': [LogisticRegression()],\n",
    "    'Model__C': [0.01, 0.01, 0.1, 1, 100],\n",
    "    'Model__penalty': ['l1', 'l2']\n",
    "},\n",
    "    \n",
    "{\n",
    "    'Normalise': [None],\n",
    "    'Reduce': [None],\n",
    "    'Model': [RandomForestClassifier()],\n",
    "    'Model__n_estimators': [5, 10, 15, 20, 25, 30, 50],\n",
    "    'Model__max_depth': [1, 5, 10, 15, 20]\n",
    "},\n",
    "\n",
    "{\n",
    "    'Model': [svm.SVC()],\n",
    "    'Normalise': [StandardScaler(), None],\n",
    "    'Model__gamma': [0.001, 0.01, 0.1, 1, 10, 100],\n",
    "    'Model__C': [0.001, 0.01, 0.1, 1, 10, 100]}]\n",
    "\n",
    "grid_search = GridSearchCV(doc_pipe, param_grid=param_grid)"
   ]
  },
  {
   "cell_type": "code",
   "execution_count": 73,
   "metadata": {},
   "outputs": [],
   "source": [
    "# Set what the GridSearch will use in its model, so we set it to use the train set as it tunes parameters.\n",
    "grid_search = grid_search.fit(X_train, y_train)"
   ]
  },
  {
   "cell_type": "code",
   "execution_count": 74,
   "metadata": {},
   "outputs": [
    {
     "name": "stdout",
     "output_type": "stream",
     "text": [
      "Test Accuracy 0.8267637817766352\n",
      "Training Accuracy: 0.9289591467479288\n"
     ]
    }
   ],
   "source": [
    "# See the score\n",
    "print(f'Test Accuracy {grid_search.score(X_test, y_test)}')\n",
    "print(f'Training Accuracy: {grid_search.score(X_train, y_train)}')"
   ]
  },
  {
   "cell_type": "code",
   "execution_count": 75,
   "metadata": {},
   "outputs": [
    {
     "data": {
      "text/plain": [
       "Pipeline(memory=None,\n",
       "         steps=[('Normalise',\n",
       "                 StandardScaler(copy=True, with_mean=True, with_std=True)),\n",
       "                ('Reduce',\n",
       "                 PCA(copy=True, iterated_power='auto', n_components=None,\n",
       "                     random_state=None, svd_solver='auto', tol=0.0,\n",
       "                     whiten=False)),\n",
       "                ('Model',\n",
       "                 SVC(C=1, cache_size=200, class_weight=None, coef0=0.0,\n",
       "                     decision_function_shape='ovr', degree=3, gamma=100,\n",
       "                     kernel='rbf', max_iter=-1, probability=False,\n",
       "                     random_state=None, shrinking=True, tol=0.001,\n",
       "                     verbose=False))],\n",
       "         verbose=False)"
      ]
     },
     "execution_count": 75,
     "metadata": {},
     "output_type": "execute_result"
    }
   ],
   "source": [
    "# What was the best model?\n",
    "grid_search.best_estimator_"
   ]
  }
 ],
 "metadata": {
  "kernelspec": {
   "display_name": "Python 3",
   "language": "python",
   "name": "python3"
  },
  "language_info": {
   "codemirror_mode": {
    "name": "ipython",
    "version": 3
   },
   "file_extension": ".py",
   "mimetype": "text/x-python",
   "name": "python",
   "nbconvert_exporter": "python",
   "pygments_lexer": "ipython3",
   "version": "3.7.3"
  },
  "toc": {
   "base_numbering": 1,
   "nav_menu": {},
   "number_sections": true,
   "sideBar": true,
   "skip_h1_title": false,
   "title_cell": "Table of Contents",
   "title_sidebar": "Contents",
   "toc_cell": false,
   "toc_position": {},
   "toc_section_display": true,
   "toc_window_display": false
  }
 },
 "nbformat": 4,
 "nbformat_minor": 4
}
